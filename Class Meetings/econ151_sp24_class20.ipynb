{
 "cells": [
  {
   "cell_type": "markdown",
   "id": "240f7678",
   "metadata": {},
   "source": [
    "<img src=\"images/econ151.png\" width=\"200\" />"
   ]
  },
  {
   "cell_type": "markdown",
   "id": "82ad9854",
   "metadata": {},
   "source": [
    "<h1>ECON 151 Class 20</h1>"
   ]
  },
  {
   "cell_type": "markdown",
   "id": "7f5c0b61",
   "metadata": {},
   "source": [
    "As we did in Class 01, let us examine a dataset that measures wages and other characteristics of a cohort of men in the National Longitudinal Surveys (NLS) using a useful repository of data from Jeffrey Wooldridge's excellent textbook, <i>Introductory Econometrics, a Modern Approach</i>. \n",
    "\n",
    "This appears as Example 9.3 on page 281 of the 6th edition, and it draws on a dataset provided by [Blackburn and Newmark (1992)](https://www-jstor-org.libproxy.berkeley.edu/stable/2118394) on monthly earnings and other characteristics among men in 1980. As described by Blackburn and Newmark, the data come from the Young Men's Cohort of the NLS, first surveyed in 1966 at ages 14-24 (i.e., born in 1942-1952) and then again at one or two-year intervals afterward. Wooldridge remarks that the `wage2` extract includes wage data from 1980, when the individuals are aged 28-38."
   ]
  },
  {
   "cell_type": "markdown",
   "id": "46947ae2-b6d3-4b56-a54e-eaebff39cef4",
   "metadata": {},
   "source": [
    "<h2>Loading in the data</h2>"
   ]
  },
  {
   "cell_type": "markdown",
   "id": "bf5dac52",
   "metadata": {},
   "source": [
    "Helpfully, folks have dumped all Wooldridge's public datasets into an R package for us to use. Here is code that sets that up. Highlight the code snippet with your mouse or trackpad, and hit <tt>SHIFT+ENTER</tt> to run it."
   ]
  },
  {
   "cell_type": "code",
   "execution_count": 1,
   "id": "0f921c45",
   "metadata": {},
   "outputs": [
    {
     "name": "stderr",
     "output_type": "stream",
     "text": [
      "Installing package into ‘/srv/r’\n",
      "(as ‘lib’ is unspecified)\n",
      "\n"
     ]
    }
   ],
   "source": [
    "install.packages('wooldridge')"
   ]
  },
  {
   "cell_type": "markdown",
   "id": "ec870e1f",
   "metadata": {},
   "source": [
    "This command digs into that loaded package and retrieves part of it for our data:"
   ]
  },
  {
   "cell_type": "code",
   "execution_count": 2,
   "id": "a5f4fafe",
   "metadata": {},
   "outputs": [],
   "source": [
    "data(wage2, package='wooldridge')"
   ]
  },
  {
   "cell_type": "markdown",
   "id": "e6ad0f21",
   "metadata": {},
   "source": [
    "There are several ways of probing what it is that we just loaded. One convenient function to call is <tt>head()<tt>:"
   ]
  },
  {
   "cell_type": "code",
   "execution_count": 3,
   "id": "c8382f10",
   "metadata": {},
   "outputs": [
    {
     "data": {
      "text/html": [
       "<table class=\"dataframe\">\n",
       "<caption>A data.frame: 6 × 17</caption>\n",
       "<thead>\n",
       "\t<tr><th></th><th scope=col>wage</th><th scope=col>hours</th><th scope=col>IQ</th><th scope=col>KWW</th><th scope=col>educ</th><th scope=col>exper</th><th scope=col>tenure</th><th scope=col>age</th><th scope=col>married</th><th scope=col>black</th><th scope=col>south</th><th scope=col>urban</th><th scope=col>sibs</th><th scope=col>brthord</th><th scope=col>meduc</th><th scope=col>feduc</th><th scope=col>lwage</th></tr>\n",
       "\t<tr><th></th><th scope=col>&lt;int&gt;</th><th scope=col>&lt;int&gt;</th><th scope=col>&lt;int&gt;</th><th scope=col>&lt;int&gt;</th><th scope=col>&lt;int&gt;</th><th scope=col>&lt;int&gt;</th><th scope=col>&lt;int&gt;</th><th scope=col>&lt;int&gt;</th><th scope=col>&lt;int&gt;</th><th scope=col>&lt;int&gt;</th><th scope=col>&lt;int&gt;</th><th scope=col>&lt;int&gt;</th><th scope=col>&lt;int&gt;</th><th scope=col>&lt;int&gt;</th><th scope=col>&lt;int&gt;</th><th scope=col>&lt;int&gt;</th><th scope=col>&lt;dbl&gt;</th></tr>\n",
       "</thead>\n",
       "<tbody>\n",
       "\t<tr><th scope=row>1</th><td> 769</td><td>40</td><td> 93</td><td>35</td><td>12</td><td>11</td><td> 2</td><td>31</td><td>1</td><td>0</td><td>0</td><td>1</td><td> 1</td><td> 2</td><td> 8</td><td> 8</td><td>6.645091</td></tr>\n",
       "\t<tr><th scope=row>2</th><td> 808</td><td>50</td><td>119</td><td>41</td><td>18</td><td>11</td><td>16</td><td>37</td><td>1</td><td>0</td><td>0</td><td>1</td><td> 1</td><td>NA</td><td>14</td><td>14</td><td>6.694562</td></tr>\n",
       "\t<tr><th scope=row>3</th><td> 825</td><td>40</td><td>108</td><td>46</td><td>14</td><td>11</td><td> 9</td><td>33</td><td>1</td><td>0</td><td>0</td><td>1</td><td> 1</td><td> 2</td><td>14</td><td>14</td><td>6.715384</td></tr>\n",
       "\t<tr><th scope=row>4</th><td> 650</td><td>40</td><td> 96</td><td>32</td><td>12</td><td>13</td><td> 7</td><td>32</td><td>1</td><td>0</td><td>0</td><td>1</td><td> 4</td><td> 3</td><td>12</td><td>12</td><td>6.476973</td></tr>\n",
       "\t<tr><th scope=row>5</th><td> 562</td><td>40</td><td> 74</td><td>27</td><td>11</td><td>14</td><td> 5</td><td>34</td><td>1</td><td>0</td><td>0</td><td>1</td><td>10</td><td> 6</td><td> 6</td><td>11</td><td>6.331502</td></tr>\n",
       "\t<tr><th scope=row>6</th><td>1400</td><td>40</td><td>116</td><td>43</td><td>16</td><td>14</td><td> 2</td><td>35</td><td>1</td><td>1</td><td>0</td><td>1</td><td> 1</td><td> 2</td><td> 8</td><td>NA</td><td>7.244227</td></tr>\n",
       "</tbody>\n",
       "</table>\n"
      ],
      "text/latex": [
       "A data.frame: 6 × 17\n",
       "\\begin{tabular}{r|lllllllllllllllll}\n",
       "  & wage & hours & IQ & KWW & educ & exper & tenure & age & married & black & south & urban & sibs & brthord & meduc & feduc & lwage\\\\\n",
       "  & <int> & <int> & <int> & <int> & <int> & <int> & <int> & <int> & <int> & <int> & <int> & <int> & <int> & <int> & <int> & <int> & <dbl>\\\\\n",
       "\\hline\n",
       "\t1 &  769 & 40 &  93 & 35 & 12 & 11 &  2 & 31 & 1 & 0 & 0 & 1 &  1 &  2 &  8 &  8 & 6.645091\\\\\n",
       "\t2 &  808 & 50 & 119 & 41 & 18 & 11 & 16 & 37 & 1 & 0 & 0 & 1 &  1 & NA & 14 & 14 & 6.694562\\\\\n",
       "\t3 &  825 & 40 & 108 & 46 & 14 & 11 &  9 & 33 & 1 & 0 & 0 & 1 &  1 &  2 & 14 & 14 & 6.715384\\\\\n",
       "\t4 &  650 & 40 &  96 & 32 & 12 & 13 &  7 & 32 & 1 & 0 & 0 & 1 &  4 &  3 & 12 & 12 & 6.476973\\\\\n",
       "\t5 &  562 & 40 &  74 & 27 & 11 & 14 &  5 & 34 & 1 & 0 & 0 & 1 & 10 &  6 &  6 & 11 & 6.331502\\\\\n",
       "\t6 & 1400 & 40 & 116 & 43 & 16 & 14 &  2 & 35 & 1 & 1 & 0 & 1 &  1 &  2 &  8 & NA & 7.244227\\\\\n",
       "\\end{tabular}\n"
      ],
      "text/markdown": [
       "\n",
       "A data.frame: 6 × 17\n",
       "\n",
       "| <!--/--> | wage &lt;int&gt; | hours &lt;int&gt; | IQ &lt;int&gt; | KWW &lt;int&gt; | educ &lt;int&gt; | exper &lt;int&gt; | tenure &lt;int&gt; | age &lt;int&gt; | married &lt;int&gt; | black &lt;int&gt; | south &lt;int&gt; | urban &lt;int&gt; | sibs &lt;int&gt; | brthord &lt;int&gt; | meduc &lt;int&gt; | feduc &lt;int&gt; | lwage &lt;dbl&gt; |\n",
       "|---|---|---|---|---|---|---|---|---|---|---|---|---|---|---|---|---|---|\n",
       "| 1 |  769 | 40 |  93 | 35 | 12 | 11 |  2 | 31 | 1 | 0 | 0 | 1 |  1 |  2 |  8 |  8 | 6.645091 |\n",
       "| 2 |  808 | 50 | 119 | 41 | 18 | 11 | 16 | 37 | 1 | 0 | 0 | 1 |  1 | NA | 14 | 14 | 6.694562 |\n",
       "| 3 |  825 | 40 | 108 | 46 | 14 | 11 |  9 | 33 | 1 | 0 | 0 | 1 |  1 |  2 | 14 | 14 | 6.715384 |\n",
       "| 4 |  650 | 40 |  96 | 32 | 12 | 13 |  7 | 32 | 1 | 0 | 0 | 1 |  4 |  3 | 12 | 12 | 6.476973 |\n",
       "| 5 |  562 | 40 |  74 | 27 | 11 | 14 |  5 | 34 | 1 | 0 | 0 | 1 | 10 |  6 |  6 | 11 | 6.331502 |\n",
       "| 6 | 1400 | 40 | 116 | 43 | 16 | 14 |  2 | 35 | 1 | 1 | 0 | 1 |  1 |  2 |  8 | NA | 7.244227 |\n",
       "\n"
      ],
      "text/plain": [
       "  wage hours IQ  KWW educ exper tenure age married black south urban sibs\n",
       "1  769 40     93 35  12   11     2     31  1       0     0     1      1  \n",
       "2  808 50    119 41  18   11    16     37  1       0     0     1      1  \n",
       "3  825 40    108 46  14   11     9     33  1       0     0     1      1  \n",
       "4  650 40     96 32  12   13     7     32  1       0     0     1      4  \n",
       "5  562 40     74 27  11   14     5     34  1       0     0     1     10  \n",
       "6 1400 40    116 43  16   14     2     35  1       1     0     1      1  \n",
       "  brthord meduc feduc lwage   \n",
       "1  2       8     8    6.645091\n",
       "2 NA      14    14    6.694562\n",
       "3  2      14    14    6.715384\n",
       "4  3      12    12    6.476973\n",
       "5  6       6    11    6.331502\n",
       "6  2       8    NA    7.244227"
      ]
     },
     "metadata": {},
     "output_type": "display_data"
    }
   ],
   "source": [
    "head(wage2)"
   ]
  },
  {
   "cell_type": "markdown",
   "id": "ddc76230",
   "metadata": {},
   "source": [
    "Another is to type `?wooldridge::wage2`"
   ]
  },
  {
   "cell_type": "code",
   "execution_count": null,
   "id": "531d79bf",
   "metadata": {},
   "outputs": [],
   "source": [
    "?wooldridge::wage2"
   ]
  },
  {
   "cell_type": "markdown",
   "id": "b1653a81",
   "metadata": {},
   "source": [
    "The variables have mnemonic names you can guess. Probably the strangest one is <tt>lwage</tt>, which appears at the far right of the results window (scroll right), and which is the <b>natural logarithm of monthly earnings</b>."
   ]
  },
  {
   "cell_type": "markdown",
   "id": "71d44305-096b-4748-bbc2-fffe15279d32",
   "metadata": {},
   "source": [
    "<h3>The hourly wage</h3>"
   ]
  },
  {
   "cell_type": "markdown",
   "id": "07c3d6b0-35cd-4ed8-8057-c0218d648052",
   "metadata": {},
   "source": [
    "Monthly earnings are the product of the hourly wage, weekly hours worked, and weeks worked per month. Because each of these can vary across workers, it might be best to examine the hourly wage. Let's construct an estimate of the hourly wage using the `hours` variable in the dataset, which measures average weekly hours. We'll assume there are 4 weeks per month."
   ]
  },
  {
   "cell_type": "code",
   "execution_count": 11,
   "id": "b2972dac-1eb9-4568-bc0c-4ec765f7f3e1",
   "metadata": {},
   "outputs": [],
   "source": [
    "# hourly wage\n",
    "wage2$hourlywage <- wage2$wage/wage2$hours/4\n",
    "\n",
    "# log hourly wage\n",
    "wage2$loghourlywage <- log(wage2$hourlywage)"
   ]
  },
  {
   "cell_type": "markdown",
   "id": "2c9dcd13-eb1f-43f5-bcee-761c5909ca21",
   "metadata": {},
   "source": [
    "While we're tweaking variables, let's also add the square of years of labor market experience."
   ]
  },
  {
   "cell_type": "code",
   "execution_count": 15,
   "id": "00699fff-c8e4-4f5d-aac1-d553c88d5956",
   "metadata": {},
   "outputs": [],
   "source": [
    "# square of experience\n",
    "wage2$expersq <- wage2$exper^2"
   ]
  },
  {
   "cell_type": "markdown",
   "id": "646c82c7-b31c-405d-bec2-286e720f00d8",
   "metadata": {},
   "source": [
    "<h2>Mincer earnings regressions</h2>"
   ]
  },
  {
   "cell_type": "markdown",
   "id": "43bc9bc4",
   "metadata": {},
   "source": [
    "Jacob Mincer ([1974](https://www.nber.org/books-and-chapters/schooling-experience-and-earnings)) formalized what is now a standard tool in economics: the log earnings regression. [Heckman, Lockner, and Todd (2003)](https://www-nber-org.libproxy.berkeley.edu/papers/w9732) provide a review. The basic formulation of a Mincer log wage regression is\n",
    "\n",
    "$$\\log w_i = \\alpha + \\rho_s \\ s_i + \\beta_0 x_i + \\beta_1 x_i^2 + \\epsilon_i$$\n",
    "\n",
    "where $w_i$ is the hourly wage for worker $i$; $s_i$ measures their years of schooling or education; there is a quadratic in their years of labor market experience, $x_i$; and $\\epsilon_i$ is a white-noise error term with mean zero.\n",
    "\n",
    "Other variables can appear on the right-hand side, such as gender identity, racial or ethnic identity, geographic location, and industry and occupation. When test scores are available, those also sometimes appear on the right-hand side."
   ]
  },
  {
   "cell_type": "markdown",
   "id": "265932df-502d-478a-a1da-10d25e51f8bf",
   "metadata": {},
   "source": [
    "<h3>Hourly wage or earnings?</h3>"
   ]
  },
  {
   "cell_type": "markdown",
   "id": "8362f408-cd5f-4d00-b0b8-348c1f957936",
   "metadata": {},
   "source": [
    "I think manmy studies move back and forth between these two concepts as potential $y$-variables. If there are big differences in hours worked between units, then earnings will be affected by those differences, and it might be smarter to model wages instead."
   ]
  },
  {
   "cell_type": "markdown",
   "id": "03790192-a3e1-42af-8113-22783e34909f",
   "metadata": {},
   "source": [
    "<h3>Ordinary least squares in R</h3>"
   ]
  },
  {
   "cell_type": "markdown",
   "id": "7a2c2372-95d7-4717-ae7a-d79febefe0b2",
   "metadata": {},
   "source": [
    "In R the <tt>lm()</tt> function fits multivariate linear models conveniently. The syntax takes getting used to, but to estimate this model:\n",
    "$$y = \\alpha + \\beta x + \\gamma z + \\epsilon$$\n",
    "we  call this code:\n",
    "\n",
    "<center><tt>lm(y ~ x + z)</tt></center>\n",
    "\n",
    "Can you see the similarities?\n",
    "\n",
    "To estimate this equation via ordinary least squares (OLS), we call <tt>lm()</tt> (for \"linear model\") with an estimating equation. I like assigning the output to new structures on the left hand side of the \"gets\" operator, <tt><-</tt>"
   ]
  },
  {
   "cell_type": "markdown",
   "id": "712d9952-98d0-4f69-bf2f-a9c321cb96cd",
   "metadata": {},
   "source": [
    "<h3>Racial inequality in men's wages</h3>"
   ]
  },
  {
   "cell_type": "markdown",
   "id": "6034e4a7-fcd8-4806-8629-2953dc0f17d2",
   "metadata": {},
   "source": [
    "A useful way to document and explore inequality in wages is with multivariate OLS, controlling for the productive characteristics of workers on the right-hand side. Such an approach \"bakes in\" any causal effect of discrimination that runs through the productive characteristics, like educational attainment. But it it provides a useful answer to a specific question: how much inequality in wages do we see that is attributable to dynamics in the labor market?"
   ]
  },
  {
   "cell_type": "markdown",
   "id": "7c25b73c-fc41-4207-a4fd-469eefcf28ec",
   "metadata": {},
   "source": [
    "Let's begin with an unadjusted comparison of log wages between black and white men. (Other groups were omitted from this extract.)"
   ]
  },
  {
   "cell_type": "code",
   "execution_count": 14,
   "id": "54779f4d",
   "metadata": {},
   "outputs": [
    {
     "data": {
      "text/plain": [
       "\n",
       "Call:\n",
       "lm(formula = loghourlywage ~ black, data = wage2)\n",
       "\n",
       "Residuals:\n",
       "     Min       1Q   Median       3Q      Max \n",
       "-2.20611 -0.27901  0.03483  0.31195  1.59182 \n",
       "\n",
       "Coefficients:\n",
       "            Estimate Std. Error t value Pr(>|t|)    \n",
       "(Intercept)  1.65272    0.01564 105.642  < 2e-16 ***\n",
       "black       -0.23745    0.04367  -5.438  6.9e-08 ***\n",
       "---\n",
       "Signif. codes:  0 ‘***’ 0.001 ‘**’ 0.01 ‘*’ 0.05 ‘.’ 0.1 ‘ ’ 1\n",
       "\n",
       "Residual standard error: 0.4466 on 933 degrees of freedom\n",
       "Multiple R-squared:  0.03072,\tAdjusted R-squared:  0.02968 \n",
       "F-statistic: 29.57 on 1 and 933 DF,  p-value: 6.9e-08\n"
      ]
     },
     "metadata": {},
     "output_type": "display_data"
    }
   ],
   "source": [
    "reg1 <- lm(loghourlywage ~ black,\n",
    "           data = wage2)\n",
    "summary(reg1)"
   ]
  },
  {
   "cell_type": "markdown",
   "id": "ec08713d-d6ed-41af-8131-a40afd6e0bb4",
   "metadata": {},
   "source": [
    "<hr>"
   ]
  },
  {
   "cell_type": "markdown",
   "id": "ac3cc5b5-9bd9-4f50-82c7-37ffdfff3c75",
   "metadata": {},
   "source": [
    "In words: Black men's wages were 23.7 percent lower than white men's wages in this dataset.\n",
    "\n",
    "Let's now control for education and years of experience"
   ]
  },
  {
   "cell_type": "code",
   "execution_count": 17,
   "id": "ab9a46d6",
   "metadata": {},
   "outputs": [
    {
     "data": {
      "text/plain": [
       "\n",
       "Call:\n",
       "lm(formula = loghourlywage ~ black + educ + exper + expersq, \n",
       "    data = wage2)\n",
       "\n",
       "Residuals:\n",
       "     Min       1Q   Median       3Q      Max \n",
       "-2.05102 -0.26087  0.03652  0.29009  1.63980 \n",
       "\n",
       "Coefficients:\n",
       "              Estimate Std. Error t value Pr(>|t|)    \n",
       "(Intercept)  0.5059786  0.1381430   3.663 0.000264 ***\n",
       "black       -0.1736897  0.0425699  -4.080 4.89e-05 ***\n",
       "educ         0.0661956  0.0073160   9.048  < 2e-16 ***\n",
       "exper        0.0231237  0.0147436   1.568 0.117129    \n",
       "expersq     -0.0001334  0.0006173  -0.216 0.828953    \n",
       "---\n",
       "Signif. codes:  0 ‘***’ 0.001 ‘**’ 0.01 ‘*’ 0.05 ‘.’ 0.1 ‘ ’ 1\n",
       "\n",
       "Residual standard error: 0.428 on 930 degrees of freedom\n",
       "Multiple R-squared:  0.1127,\tAdjusted R-squared:  0.1089 \n",
       "F-statistic: 29.53 on 4 and 930 DF,  p-value: < 2.2e-16\n"
      ]
     },
     "metadata": {},
     "output_type": "display_data"
    }
   ],
   "source": [
    "reg2 <- lm(loghourlywage ~ black + educ + exper + expersq,\n",
    "           data = wage2)\n",
    "summary(reg2)"
   ]
  },
  {
   "cell_type": "markdown",
   "id": "a4210ef8-858c-4a24-8cfe-75e0879f78fd",
   "metadata": {},
   "source": [
    "<hr>"
   ]
  },
  {
   "cell_type": "markdown",
   "id": "53beb8b5",
   "metadata": {},
   "source": [
    "Once we control for years of education and a quadratic in years of labor market experience, the wage penalty for Black men falls in magnitude to 17.3 percent.\n",
    "\n",
    "Note that the quadratic term is negative, which is what one would like to see: a wage that rises with experience or age, but at a decreasing rate, until reaching some maximum. Here, the maximum is reached at this level (\"the x-coordinate of the vertex,\" from algebra or calculus):"
   ]
  },
  {
   "cell_type": "code",
   "execution_count": 20,
   "id": "065c90aa",
   "metadata": {},
   "outputs": [
    {
     "data": {
      "text/html": [
       "<strong>exper:</strong> 86.6733475846379"
      ],
      "text/latex": [
       "\\textbf{exper:} 86.6733475846379"
      ],
      "text/markdown": [
       "**exper:** 86.6733475846379"
      ],
      "text/plain": [
       "   exper \n",
       "86.67335 "
      ]
     },
     "metadata": {},
     "output_type": "display_data"
    }
   ],
   "source": [
    "coefs_reg2 <- coef(reg2)\n",
    "(maxexper_reg2 <- -1*coefs_reg2[\"exper\"]/(2*coefs_reg2[\"expersq\"]))"
   ]
  },
  {
   "cell_type": "markdown",
   "id": "3e553143",
   "metadata": {},
   "source": [
    "Finally, let's also control for the IQ score:"
   ]
  },
  {
   "cell_type": "code",
   "execution_count": 21,
   "id": "d352ad6c-fcc6-4d43-a8a2-5e6cc274d0d8",
   "metadata": {},
   "outputs": [
    {
     "data": {
      "text/plain": [
       "\n",
       "Call:\n",
       "lm(formula = loghourlywage ~ black + educ + exper + expersq + \n",
       "    IQ, data = wage2)\n",
       "\n",
       "Residuals:\n",
       "    Min      1Q  Median      3Q     Max \n",
       "-2.0924 -0.2632  0.0344  0.2928  1.6163 \n",
       "\n",
       "Coefficients:\n",
       "              Estimate Std. Error t value Pr(>|t|)    \n",
       "(Intercept)  0.2470939  0.1538850   1.606 0.108679    \n",
       "black       -0.1149684  0.0451380  -2.547 0.011024 *  \n",
       "educ         0.0526338  0.0081317   6.473 1.56e-10 ***\n",
       "exper        0.0233206  0.0146432   1.593 0.111593    \n",
       "expersq     -0.0001436  0.0006131  -0.234 0.814860    \n",
       "IQ           0.0042780  0.0011516   3.715 0.000215 ***\n",
       "---\n",
       "Signif. codes:  0 ‘***’ 0.001 ‘**’ 0.01 ‘*’ 0.05 ‘.’ 0.1 ‘ ’ 1\n",
       "\n",
       "Residual standard error: 0.4251 on 929 degrees of freedom\n",
       "Multiple R-squared:  0.1257,\tAdjusted R-squared:  0.121 \n",
       "F-statistic: 26.71 on 5 and 929 DF,  p-value: < 2.2e-16\n"
      ]
     },
     "metadata": {},
     "output_type": "display_data"
    }
   ],
   "source": [
    "reg3 <- lm(loghourlywage ~ black + educ + exper + expersq\n",
    "                           + IQ,\n",
    "           data = wage2)\n",
    "summary(reg3)"
   ]
  },
  {
   "cell_type": "markdown",
   "id": "ed42027a-6e88-41e3-8a36-c4f8b140b556",
   "metadata": {},
   "source": [
    "<hr>"
   ]
  },
  {
   "cell_type": "markdown",
   "id": "08a64258",
   "metadata": {},
   "source": [
    "In this last step, we see the magnitude of the wage penalty felt by Black men fall to 11.5 percent."
   ]
  },
  {
   "cell_type": "markdown",
   "id": "1f16e540-6bd4-4e56-9d30-1d5923a8c798",
   "metadata": {},
   "source": [
    "This is a simple but useful approach to probing wage inequality across groups. Here, our results suggest that discrimination and other factors appear to be responsible for a Black wage penalty of about 12 percent. That's pretty big, about two years' worth of schooling."
   ]
  },
  {
   "cell_type": "markdown",
   "id": "c51934e9",
   "metadata": {},
   "source": [
    "<div style=\"text-align: right\"> <span style=\"font-family:Papyrus; \">And they lived happily ever after. The End.</span></div>"
   ]
  }
 ],
 "metadata": {
  "kernelspec": {
   "display_name": "R",
   "language": "R",
   "name": "ir"
  },
  "language_info": {
   "codemirror_mode": "r",
   "file_extension": ".r",
   "mimetype": "text/x-r-source",
   "name": "R",
   "pygments_lexer": "r",
   "version": "4.3.2"
  }
 },
 "nbformat": 4,
 "nbformat_minor": 5
}

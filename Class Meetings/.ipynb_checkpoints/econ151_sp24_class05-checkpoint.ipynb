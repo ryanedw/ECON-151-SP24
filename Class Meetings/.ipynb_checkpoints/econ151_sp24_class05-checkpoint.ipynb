{
 "cells": [
  {
   "cell_type": "markdown",
   "metadata": {},
   "source": [
    "<img src=\"images/econ151.png\" width=\"200\" />"
   ]
  },
  {
   "cell_type": "markdown",
   "metadata": {},
   "source": [
    "<h1>ECON 151 Class 5</h1>"
   ]
  },
  {
   "cell_type": "markdown",
   "metadata": {},
   "source": [
    "In this hands-on, we will step through an example of loading up and recoding a data extract from the expansive Integrated Public Use Microdata Series ([IPUMS](https://www.ipums.org)) database.\n",
    "\n",
    "Learning objectives:\n",
    "\n",
    "1. More experience with OLS\n",
    "2. Better formatting, with `options(scipen=999)` and `table()` inside a `data.frame`\n",
    "3. Recoding variables using `ifelse()` and `case_when()` inside the `dplyr` library\n",
    "4. Estimation with survey weights"
   ]
  },
  {
   "cell_type": "code",
   "execution_count": null,
   "metadata": {
    "collapsed": true
   },
   "outputs": [],
   "source": [
    "library(ipumsr)\n",
    "library(dplyr)\n",
    "library(tidyverse)\n",
    "library(haven)"
   ]
  },
  {
   "cell_type": "markdown",
   "metadata": {},
   "source": [
    "It turns out that this handy command stops __R__ from defaulting to scientific notation."
   ]
  },
  {
   "cell_type": "code",
   "execution_count": null,
   "metadata": {
    "collapsed": true
   },
   "outputs": [],
   "source": [
    "options(scipen=999)"
   ]
  },
  {
   "cell_type": "markdown",
   "metadata": {},
   "source": [
    "<h2>Using IPUMS</h2>\n",
    "\n",
    "IPUMS data must be downloaded from their website using an established user account. (You can also analyze data online, but I don't recommend that option.) Like with almost everything in __R__, there are at least 3 ways of working with IPUMS data once you've downloaded your extract from IPUMS and either uploaded it to datahub or installed your own (free) local copy of [RStudio desktop](https://www.rstudio.com/products/rstudio/) to examine the data.\n",
    "\n",
    "There are at least three methods:\n",
    "1. Download .DAT and .XML files from IPUMS and use `ipumsr`\n",
    "2. Download Stata .DTA files from IPUMS and use `read_dta()` from `haven`\n",
    "3. Download .CSV files from IPUMS and use `read.csv()` in base __R__\n",
    "\n",
    "In this notebook, we'll look at the first way: using the `ipumsr` library functions below to read in the data from a .DAT and .XML (a.k.a. DDI) file. To pull this off, you need to have the .DAT and .XML files downloaded and placed into your working directory."
   ]
  },
  {
   "cell_type": "markdown",
   "metadata": {},
   "source": [
    "The following commands pull in my CPS extract `cps_00028`, which draws these variables from the January 2018 wave (job tenure supplement) of the Current Population Survey on IPUMS:\n",
    "\n",
    "````{verbatim}\n",
    "YEAR            Survey year\n",
    "SERIAL          Household serial number\n",
    "MONTH           Month\n",
    "HWTFINL         Household weight, Basic Monthly\n",
    "CPSID           CPSID, household record\n",
    "STATEFIP        State (FIPS code)\n",
    "METRO           Metropolitan central city status\n",
    "PERNUM          Person number in sample unit\n",
    "WTFINL          Final Basic Weight\n",
    "CPSIDP          CPSID, person record\n",
    "AGE             Age\n",
    "SEX             Sex\n",
    "RACE            Race\n",
    "MARST           Marital status\n",
    "VETSTAT         Veteran status\n",
    "HISPAN          Hispanic origin\n",
    "EMPSTAT         Employment status\n",
    "OCC             Occupation\n",
    "IND             Industry\n",
    "CLASSWKR        Class of worker\n",
    "AHRSWORKT       Hours worked last week\n",
    "WKSTAT          Full or part time status\n",
    "EDUC            Educational attainment recode\n",
    "EDCYC           Years of college credit completed\n",
    "EDDIPGED        High school or GED\n",
    "EDHGCGED        Highest grade completed before receiving GED\n",
    "JTYEARS         Length of time worked at current job in years\n",
    "JTYEARAGO       Employment one year ago\n",
    "JTSAME          Doing the same work a year ago\n",
    "JTYPE           Type of business or organization in which you worked last year\n",
    "JTCLASS         Class of worker, Job Tenure Supplement\n",
    "JTIND           Industry one year ago\n",
    "JTOCC           Occupation one year ago\n",
    "JTSUPPWT        Job tenure supplement weight\n",
    "EARNWEEK        Weekly earnings\n",
    "````"
   ]
  },
  {
   "cell_type": "code",
   "execution_count": null,
   "metadata": {
    "collapsed": true
   },
   "outputs": [],
   "source": [
    "cps_data <- ipumsr::read_ipums_micro(\n",
    "  ddi = \"cps_00028.xml\",\n",
    "  data = \"cps_00028.dat.gz\"\n",
    ")"
   ]
  },
  {
   "cell_type": "code",
   "execution_count": null,
   "metadata": {
    "collapsed": true
   },
   "outputs": [],
   "source": [
    "# Here is another version of calls that successfully load the data, \n",
    "# here drawing from the unzipped data file cps_00028.dat instead of the gzipped compressed file\n",
    "\n",
    "#cps_ddi <- read_ipums_ddi(\"cps_00028.xml\")\n",
    "#cps_data <- read_ipums_micro(cps_ddi, verbose = FALSE)"
   ]
  },
  {
   "cell_type": "code",
   "execution_count": null,
   "metadata": {
    "collapsed": true
   },
   "outputs": [],
   "source": [
    "head(cps_data)"
   ]
  },
  {
   "cell_type": "markdown",
   "metadata": {},
   "source": [
    "Let's clean up the data. But what variables need cleaning? You could browse the documentation for each one, or you could look at a quick `summary()` for suspect variables. Seasoned users of IPUMS will know that earnings and income contain real data <i>and codes for missing data</i> as explained for `EARNWEEK` [here for example](https://cps.ipums.org/cps-action/variables/EARNWEEK#codes_section)."
   ]
  },
  {
   "cell_type": "code",
   "execution_count": null,
   "metadata": {
    "collapsed": true
   },
   "outputs": [],
   "source": [
    "summary(cps_data$EARNWEEK)"
   ]
  },
  {
   "cell_type": "markdown",
   "metadata": {},
   "source": [
    "Let's recode to drop those missing to NA's."
   ]
  },
  {
   "cell_type": "code",
   "execution_count": null,
   "metadata": {
    "collapsed": true
   },
   "outputs": [],
   "source": [
    "cps_data <- mutate(cps_data, earnweek0 = ifelse(EARNWEEK < 9999.99, EARNWEEK, NA))"
   ]
  },
  {
   "cell_type": "code",
   "execution_count": null,
   "metadata": {
    "collapsed": true
   },
   "outputs": [],
   "source": [
    "cps_data <- mutate(cps_data, logearnweek = log(earnweek0))"
   ]
  },
  {
   "cell_type": "markdown",
   "metadata": {},
   "source": [
    "A standard trick: when gender identity is binary in the data, it's usually coded for female == 2; subtract 1 to get an indicator for female identity."
   ]
  },
  {
   "cell_type": "code",
   "execution_count": null,
   "metadata": {
    "collapsed": true
   },
   "outputs": [],
   "source": [
    "cps_data <- mutate(cps_data, female = SEX - 1)"
   ]
  },
  {
   "cell_type": "markdown",
   "metadata": {},
   "source": [
    "The job tenure variable also has NA's coded as numbers, so let's drop those:"
   ]
  },
  {
   "cell_type": "code",
   "execution_count": null,
   "metadata": {
    "collapsed": true
   },
   "outputs": [],
   "source": [
    "cps_data <- mutate(cps_data, jtyears = ifelse(JTYEARS < 99.98, JTYEARS, NA))"
   ]
  },
  {
   "cell_type": "markdown",
   "metadata": {},
   "source": [
    "The `HISPAN` variable takes on many values, [as shown here in the documentation](https://cps.ipums.org/cps-action/variables/HISPAN#codes_section). None missing, so a useful way forward is to assign 0 for `HISPAN` == 0 and 1 for everything else, which code different Hispanic identities. (Presumably Brazilians in the dataset are coded as `HISPAN` == 612 for \"South American,\" but that's an open question.)"
   ]
  },
  {
   "cell_type": "code",
   "execution_count": null,
   "metadata": {
    "collapsed": true
   },
   "outputs": [],
   "source": [
    "cps_data <- mutate(cps_data, hispanic = ifelse(HISPAN == 0, 0, 1))"
   ]
  },
  {
   "cell_type": "markdown",
   "metadata": {},
   "source": [
    "Here is my preferred quadrichotomous measure of race/ethnicity for the U.S. in 2022: \n",
    "1. Non-Hispanic white\n",
    "2. Non-Hispanic Black\n",
    "3. Hispanic, any race\n",
    "4. Non-Hispanic other race "
   ]
  },
  {
   "cell_type": "code",
   "execution_count": null,
   "metadata": {
    "collapsed": true
   },
   "outputs": [],
   "source": [
    "cps_data <- mutate(cps_data, raceth = ifelse(RACE == 100 & hispanic == 0, 1,\n",
    "                                            ifelse(RACE == 200 & hispanic == 0, 2,\n",
    "                                                   ifelse(hispanic == 1, 3, 4)))\n",
    "                   )"
   ]
  },
  {
   "cell_type": "markdown",
   "metadata": {},
   "source": [
    "Marital status is measured in `MARST`, and codes 1 and 2 mean the respondent is married, spouse present or absent."
   ]
  },
  {
   "cell_type": "code",
   "execution_count": null,
   "metadata": {
    "collapsed": true
   },
   "outputs": [],
   "source": [
    "cps_data <- mutate(cps_data, married = ifelse(MARST == 1 | MARST == 2, 1, 0))"
   ]
  },
  {
   "cell_type": "markdown",
   "metadata": {},
   "source": [
    "Let's look at the variable `EDUC`, which codes educational attainment. This code creates a more legible table of tabulated counts per value:"
   ]
  },
  {
   "cell_type": "code",
   "execution_count": null,
   "metadata": {
    "collapsed": true
   },
   "outputs": [],
   "source": [
    "temp = data.frame(table(cps_data$EDUC))\n",
    "temp"
   ]
  },
  {
   "cell_type": "markdown",
   "metadata": {},
   "source": [
    "These definitely aren't years of education. As [shown in the documentation](https://cps.ipums.org/cps-action/variables/EDUC#codes_section), this is what we're looking at:"
   ]
  },
  {
   "cell_type": "markdown",
   "metadata": {},
   "source": [
    "````{verbatim}\n",
    "*                           NIU or blank |    1\n",
    "*                      None or preschool |    2\n",
    "*                   Grades 1, 2, 3, or 4 |   10\n",
    "*                          Grades 5 or 6 |   20\n",
    "*                          Grades 7 or 8 |   30\n",
    "*                                Grade 9 |   40\n",
    "*                               Grade 10 |   50\n",
    "*                               Grade 11 |   60\n",
    "*                 12th grade, no diploma |   71\n",
    "*      High school diploma or equivalent |   73\n",
    "*             Some college but no degree |   81\n",
    "*Associate's degree, occupational/vocati |   91\n",
    "*   Associate's degree, academic program |   92\n",
    "*                      Bachelor's degree |  111\n",
    "*                        Master's degree |  123\n",
    "*             Professional school degree |  124\n",
    "*                       Doctorate degree |  125\n",
    "````"
   ]
  },
  {
   "cell_type": "markdown",
   "metadata": {},
   "source": [
    "This is an elegant way of recoding `EDUC` into something that economists think is useful: years of education attained. Here, we use `case_when()`, which is part of the `dpylr` package. Special thanks to UC Berkeley Demography Ph.D. student Casey Breen for this code.\n",
    "\n",
    "The question of exactly how to map attainment categories to years of attainment is a complicated one. I've tried to adapt what [David Jaeger (2003) suggests](https://www.sciencedirect.com/science/article/pii/S0165176502002598).\n",
    "\n",
    "(Another way of proceeding altogether would be to generate indicator variables for levels of attainment.)"
   ]
  },
  {
   "cell_type": "code",
   "execution_count": null,
   "metadata": {
    "collapsed": true
   },
   "outputs": [],
   "source": [
    "cps_data <- cps_data %>%\n",
    "mutate(edyrs = case_when(\n",
    "    EDUC == 2 ~ 0,\n",
    "    EDUC == 10 ~ 2.5,\n",
    "    EDUC == 20 ~ 5.5,\n",
    "    EDUC == 30 ~ 7.5,\n",
    "    EDUC == 40 ~ 9,\n",
    "    EDUC == 50 ~ 10,\n",
    "    EDUC == 60 ~ 11,\n",
    "    EDUC == 71 ~ 12,\n",
    "    EDUC == 73 ~ 12,\n",
    "    EDUC == 81 ~ 14,\n",
    "    EDUC == 91 ~ 14,\n",
    "    EDUC == 92 ~ 14,\n",
    "    EDUC == 111 ~ 16,\n",
    "    EDUC == 123 ~ 18,\n",
    "    EDUC == 124 ~ 18,\n",
    "    EDUC == 125 ~ 18\n",
    "    ))"
   ]
  },
  {
   "cell_type": "markdown",
   "metadata": {},
   "source": [
    "Now let's look at what's here:"
   ]
  },
  {
   "cell_type": "code",
   "execution_count": null,
   "metadata": {
    "collapsed": true
   },
   "outputs": [],
   "source": [
    "temp = data.frame(table(cps_data$edyrs))\n",
    "temp"
   ]
  },
  {
   "cell_type": "markdown",
   "metadata": {},
   "source": [
    "Here is another bunch of code that is far uglier but produces the same thing, using a ton of nested `ifelse()` calls."
   ]
  },
  {
   "cell_type": "code",
   "execution_count": null,
   "metadata": {
    "collapsed": true
   },
   "outputs": [],
   "source": [
    "#cps_data <- mutate(cps_data, edyrs = ifelse(EDUC == 2, 0,\n",
    "#                                            ifelse(EDUC == 10, 2.5,\n",
    "#                                                  ifelse(EDUC == 20, 5.5,\n",
    "#                                                        ifelse(EDUC == 30, 7.5,\n",
    "#                                                              ifelse(EDUC == 40, 9,\n",
    "#                                                                    ifelse(EDUC == 50, 10,\n",
    "#                                                                          ifelse(EDUC == 60, 11,\n",
    "#                                                                                ifelse(EDUC == 71, 12,\n",
    "#                                                                                      ifelse(EDUC == 73, 12,\n",
    "#                                                                                            ifelse(EDUC == 81, 14,\n",
    "#                                                                                                  ifelse(EDUC == 91, 14,\n",
    "#                                                                                                        ifelse(EDUC == 92, 14,\n",
    "#                                                                                                              ifelse(EDUC == 111, 16,\n",
    "#                                                                                                                    ifelse(EDUC == 123, 18,\n",
    "#                                                                                                                          ifelse(EDUC == 124, 18,\n",
    "#                                                                                                                                ifelse(EDUC == 125, 18, NA)\n",
    "#                                                                                                                                ))))))))))))))\n",
    "#                                            )\n",
    "#                   )"
   ]
  },
  {
   "cell_type": "markdown",
   "metadata": {},
   "source": [
    "Finally, here are a few more recodings. Recall our earlier discussion that labor economists like to measure <i>experience</i> as years of age minus years of education."
   ]
  },
  {
   "cell_type": "code",
   "execution_count": null,
   "metadata": {
    "collapsed": true
   },
   "outputs": [],
   "source": [
    "cps_data <- mutate(cps_data, exper = AGE - edyrs)"
   ]
  },
  {
   "cell_type": "code",
   "execution_count": null,
   "metadata": {
    "collapsed": true
   },
   "outputs": [],
   "source": [
    "cps_data <- mutate(cps_data, expersq = exper^2)"
   ]
  },
  {
   "cell_type": "markdown",
   "metadata": {},
   "source": [
    "With all of these recodings, we are finally ready to go. Let's run this model of log earnings, where the treatment variables of interest are a binary measure of female gender identity and years of education, and we have a set of controls that includes race/ethnicity, years of experience, years of experience squared, and also years of job tenure:\n",
    "\n",
    "$$\n",
    "\\ln Y_i = \\alpha + \\beta^f \\ female_i + \\beta^e \\ educ_i + B \\ controls_i + \\epsilon_i\n",
    "$$\n",
    "\n",
    "Let's also restrict the sample to workers aged 25-64."
   ]
  },
  {
   "cell_type": "code",
   "execution_count": null,
   "metadata": {
    "collapsed": true
   },
   "outputs": [],
   "source": [
    "cps_reg1 <- lm(logearnweek ~ female + edyrs + factor(raceth) + exper + expersq + jtyears, \n",
    "               data = subset(cps_data, AGE >= 25 & AGE <= 64)\n",
    "               )\n",
    "summary(cps_reg1)"
   ]
  },
  {
   "cell_type": "markdown",
   "metadata": {},
   "source": [
    "Do you remember the tricks about quadratics? What is the $x$-coordinate of the vertex? If the (partial) function we have is:\n",
    "\n",
    "$$\n",
    "\\ln Y_i = a \\cdot exper_i^2 + b \\cdot exper_i + c\n",
    "$$\n",
    "\n",
    "then the vertex falls where $exper_i = -b \\ / \\ 2a$. You can also find this by differentiating the formula above and setting the derivative to zero, which reveals that $2a \\cdot exper_i + b = 0$, and solving for $exper_i$. \n",
    "\n",
    "Use this formula and plug in the coefficient on `exper` for $b$ and the coefficient on `expersq` for $a$ to find:"
   ]
  },
  {
   "cell_type": "code",
   "execution_count": null,
   "metadata": {
    "collapsed": true
   },
   "outputs": [],
   "source": [
    "0.02694388/(2*0.00045188)"
   ]
  },
  {
   "cell_type": "markdown",
   "metadata": {},
   "source": [
    "In words, log earnings rise with experience up to about year 30. For a college graduate, that would be around age 52."
   ]
  },
  {
   "cell_type": "markdown",
   "metadata": {},
   "source": [
    "<hr>"
   ]
  },
  {
   "cell_type": "markdown",
   "metadata": {},
   "source": [
    "What about marital status? We didn't include that, nor did we control for a bunch of other interesting variables in the data, like veteran status and other characteristics of job tenure. Let's try inserted `married` to see what we find:"
   ]
  },
  {
   "cell_type": "code",
   "execution_count": null,
   "metadata": {
    "collapsed": true
   },
   "outputs": [],
   "source": [
    "cps_reg2 <- lm(logearnweek ~ female + edyrs + factor(raceth) + exper + expersq + jtyears + married, \n",
    "               data = subset(cps_data, AGE >= 25 & AGE <= 64)\n",
    "               )\n",
    "summary(cps_reg2)"
   ]
  },
  {
   "cell_type": "markdown",
   "metadata": {},
   "source": [
    "Describe what you see. Are these results fundamentally different or mostly the same as the results without controlling for `married()`?"
   ]
  },
  {
   "cell_type": "markdown",
   "metadata": {},
   "source": []
  },
  {
   "cell_type": "markdown",
   "metadata": {},
   "source": [
    "<hr>"
   ]
  },
  {
   "cell_type": "markdown",
   "metadata": {},
   "source": [
    "We have 2 sampling weights in the extract: `WTFINL` the final basic weight, and `JTSUPPWT` the job tenure supplement weight. If we use job tenure variables in a model, we should use the latter weight. Let's give it a try."
   ]
  },
  {
   "cell_type": "code",
   "execution_count": null,
   "metadata": {
    "collapsed": true
   },
   "outputs": [],
   "source": [
    "cps_reg3 <- lm(logearnweek ~ female + edyrs + factor(raceth) + exper + expersq + jtyears + married, \n",
    "               data = subset(cps_data, AGE >= 25 & AGE <= 64),\n",
    "               weight = JTSUPPWT\n",
    "              )\n",
    "summary(cps_reg3)"
   ]
  },
  {
   "cell_type": "markdown",
   "metadata": {},
   "source": [
    "Describe what you see. Are these results fundamentally different or mostly the same as the results without sampling weights?"
   ]
  },
  {
   "cell_type": "markdown",
   "metadata": {},
   "source": []
  },
  {
   "cell_type": "markdown",
   "metadata": {},
   "source": [
    "<div style=\"text-align: right\"> <span style=\"font-family:Papyrus; \">And they lived happily ever after. The End.</span></div>"
   ]
  },
  {
   "cell_type": "code",
   "execution_count": null,
   "metadata": {
    "collapsed": true
   },
   "outputs": [],
   "source": []
  }
 ],
 "metadata": {
  "kernelspec": {
   "display_name": "R",
   "language": "R",
   "name": "ir"
  },
  "language_info": {
   "codemirror_mode": "r",
   "file_extension": ".r",
   "mimetype": "text/x-r-source",
   "name": "R",
   "pygments_lexer": "r",
   "version": "4.2.1"
  }
 },
 "nbformat": 4,
 "nbformat_minor": 5
}
